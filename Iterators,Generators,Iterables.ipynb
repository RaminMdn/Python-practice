{
 "cells": [
  {
   "cell_type": "markdown",
   "id": "3fc01d3d",
   "metadata": {},
   "source": [
    "## Generators (from functions)"
   ]
  },
  {
   "cell_type": "markdown",
   "id": "33adc496",
   "metadata": {},
   "source": [
    "### Prime Generator"
   ]
  },
  {
   "cell_type": "code",
   "execution_count": 29,
   "id": "dfd33be6",
   "metadata": {},
   "outputs": [
    {
     "name": "stdout",
     "output_type": "stream",
     "text": [
      "2\n",
      "3\n",
      "5\n",
      "2\n",
      "3\n",
      "5\n",
      "7\n",
      "11\n",
      "13\n",
      "17\n",
      "19\n",
      "23\n",
      "29\n",
      "31\n",
      "37\n",
      "41\n",
      "43\n",
      "47\n"
     ]
    }
   ],
   "source": [
    "def prime_generator(limit):\n",
    "    primes = []\n",
    "    for num in range(2, limit + 1):\n",
    "        is_prime = True\n",
    "        for p in primes:\n",
    "            if p * p > num:\n",
    "                break\n",
    "            if num % p == 0:\n",
    "                is_prime = False\n",
    "                break\n",
    "        if is_prime:\n",
    "            primes.append(num)\n",
    "            yield num\n",
    "\n",
    "# Example usage:\n",
    "\n",
    "gen = prime_generator(8)\n",
    "\n",
    "print(next(gen))  # 2\n",
    "print(next(gen))  # 3\n",
    "print(next(gen))  # 5\n",
    "\n",
    "\n",
    "for prime in prime_generator(50):\n",
    "    print(prime)"
   ]
  },
  {
   "cell_type": "markdown",
   "id": "9ce8bc38",
   "metadata": {},
   "source": [
    "### Fibonacci Sequence Generator"
   ]
  },
  {
   "cell_type": "code",
   "execution_count": 18,
   "id": "5a7b2bfe",
   "metadata": {},
   "outputs": [
    {
     "name": "stdout",
     "output_type": "stream",
     "text": [
      "0\n",
      "1\n",
      "1\n",
      "2\n",
      "3\n",
      "0\n",
      "1\n",
      "1\n",
      "2\n",
      "3\n",
      "5\n",
      "8\n",
      "13\n",
      "21\n",
      "34\n"
     ]
    }
   ],
   "source": [
    "def fibonacci_generator(n):\n",
    "    a, b = 0, 1\n",
    "    for _ in range(n):\n",
    "        yield a\n",
    "        a, b = b, a + b\n",
    "\n",
    "gen = fibonacci_generator(10)\n",
    "\n",
    "for i in range(5):\n",
    "    print (next(gen))\n",
    "\n",
    "# Example usage:\n",
    "for num in fibonacci_generator(10):\n",
    "    print(num) \n",
    "\n"
   ]
  },
  {
   "cell_type": "markdown",
   "id": "6f815c3c",
   "metadata": {},
   "source": [
    "### Infinite Sequence Generator (e.g., powers of a number):\n"
   ]
  },
  {
   "cell_type": "code",
   "execution_count": 4,
   "id": "e3fb36e9",
   "metadata": {},
   "outputs": [
    {
     "name": "stdout",
     "output_type": "stream",
     "text": [
      "1\n",
      "5\n",
      "25\n",
      "125\n",
      "625\n"
     ]
    }
   ],
   "source": [
    "def powers_of_five():\n",
    "    power = 1\n",
    "    while True:\n",
    "        yield power\n",
    "        power *= 5\n",
    "\n",
    "# Example usage (take only a few values to avoid infinite loop):\n",
    "gen = powers_of_five()\n",
    "for _ in range(5):\n",
    "    print(next(gen))"
   ]
  },
  {
   "cell_type": "markdown",
   "id": "e85290f2",
   "metadata": {},
   "source": [
    "## Generators from generator expressions (similar to list comprehensions)"
   ]
  },
  {
   "cell_type": "markdown",
   "id": "d4f22990",
   "metadata": {},
   "source": [
    "### Generator Expression for Data Transformation.\n"
   ]
  },
  {
   "cell_type": "code",
   "execution_count": 30,
   "id": "955cd385",
   "metadata": {},
   "outputs": [
    {
     "name": "stdout",
     "output_type": "stream",
     "text": [
      "Rick\n",
      "Morty\n",
      "Beth\n",
      "Summer\n",
      "Jerry\n"
     ]
    }
   ],
   "source": [
    "names = [\" rick\", \" MORTY \", \"beth \", \"Summer\", \"jerRy \"]\n",
    "# Using a generator expression to clean and title case names\n",
    "cleaned_names = (name.strip().title() for name in names)\n",
    "\n",
    "# Example usage:\n",
    "gen = cleaned_names\n",
    "\n",
    "for i in range(4):\n",
    "    print (next(gen))\n",
    "\n",
    "for cleaned_name in cleaned_names:\n",
    "    print(cleaned_name)"
   ]
  },
  {
   "cell_type": "markdown",
   "id": "c7a514b7",
   "metadata": {},
   "source": []
  },
  {
   "cell_type": "markdown",
   "id": "92f16a25",
   "metadata": {},
   "source": [
    "🔍 Native Iterable Types in Python\n",
    "\n",
    "Here are the main built-in iterable types you’ll see in Python:\n",
    "\n",
    "✅ Sequence types (all iterable)\n",
    "\n",
    "list\n",
    "\n",
    "tuple\n",
    "\n",
    "str\n",
    "\n",
    "range\n",
    "\n",
    "✅ Collection types (also iterable)\n",
    "\n",
    "dict (iterates over keys by default)\n",
    "\n",
    "set\n",
    "\n",
    "frozenset\n",
    "\n",
    "✅ File objects\n",
    "\n",
    "Iterating over a file yields lines one by one:\n",
    "\n",
    "with open(\"file.txt\") as f:\n",
    "    for line in f:\n",
    "        ...\n",
    "\n",
    "✅ Some built-in functions return iterables:\n",
    "\n",
    "map(), filter(), zip(), enumerate() – return iterators, which are also iterables\n",
    "\n",
    "reversed() – returns an iterator (if the object supports it)\n",
    "\n",
    "✅ Generator objects\n",
    "\n",
    "From generator functions (yield)\n",
    "\n",
    "Or generator expressions ((x for x in ...))\n",
    "\n",
    "✅ Custom objects\n",
    "\n",
    "Any class that defines __iter__() or __getitem__() (with integer indices starting from 0) is iterable"
   ]
  },
  {
   "cell_type": "markdown",
   "id": "0bc54de8",
   "metadata": {},
   "source": [
    "### SOME IMPORTANT sentences\n",
    "\n",
    "✅ 1. \"Generators are iterators and all iterators are iterables\"\n",
    "\n",
    "Yes. 100% correct.\n",
    "\n",
    "Generators → implement __next__() and __iter__() → they are iterators\n",
    "\n",
    "Iterators → implement __iter__() and __next__() → which makes them also iterable\n",
    "\n",
    "But not all iterables are iterators (as you'll see in #2)\n",
    "\n",
    "✅ 2. \"Lists are iterables but not iterators\"\n",
    "\n",
    "Also correct.\n",
    "\n",
    "list, str, tuple, etc., have __iter__(), but no __next__()\n",
    "\n",
    "So they’re iterable, but you must call iter() on them to get an iterator\n",
    "\n",
    "✅ 3. \"Anything that is an iterator — we can use next() on that\"\n",
    "\n",
    "Yes, absolutely.\n",
    "\n",
    "If next(obj) works, it means the object implements __next__()\n",
    "\n",
    "Which means it’s an iterator\n",
    "\n",
    "You can test it like this:\n",
    "\n",
    "hasattr(obj, '__next__')  # True → it’s an iterator → you can use next(obj)\n"
   ]
  },
  {
   "cell_type": "markdown",
   "id": "72d580f4",
   "metadata": {},
   "source": []
  },
  {
   "cell_type": "markdown",
   "id": "c10f611c",
   "metadata": {},
   "source": []
  },
  {
   "cell_type": "markdown",
   "id": "25fd10b2",
   "metadata": {},
   "source": []
  }
 ],
 "metadata": {
  "kernelspec": {
   "display_name": "Python 3",
   "language": "python",
   "name": "python3"
  },
  "language_info": {
   "codemirror_mode": {
    "name": "ipython",
    "version": 3
   },
   "file_extension": ".py",
   "mimetype": "text/x-python",
   "name": "python",
   "nbconvert_exporter": "python",
   "pygments_lexer": "ipython3",
   "version": "3.12.1"
  }
 },
 "nbformat": 4,
 "nbformat_minor": 5
}
