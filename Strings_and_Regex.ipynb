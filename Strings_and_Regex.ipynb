{
 "cells": [
  {
   "cell_type": "markdown",
   "id": "2b7dc31b",
   "metadata": {},
   "source": []
  },
  {
   "cell_type": "code",
   "execution_count": 1,
   "id": "7b4a2f8c",
   "metadata": {},
   "outputs": [],
   "source": [
    "import re"
   ]
  },
  {
   "cell_type": "markdown",
   "id": "f41a006b",
   "metadata": {},
   "source": [
    "🟢 EASY LEVEL\n",
    "1. Count Characters\n",
    "\n",
    "Task: Count how many characters (including spaces) are in the string.\n",
    "Input:\n",
    "\n",
    "s = \"Hello, world!\"\n",
    "\n",
    "2. Convert to Uppercase\n",
    "\n",
    "Task: Convert all characters to uppercase.\n",
    "Input:\n",
    "\n",
    "s = \"hello python\"\n",
    "\n",
    "3. Reverse the String\n",
    "\n",
    "Task: Reverse the string and return it.\n",
    "Input:\n",
    "\n",
    "s = \"reverse me\"\n",
    "\n",
    "4. Count Vowels\n",
    "\n",
    "Task: Count the number of vowels in the string.\n",
    "Input:\n",
    "\n",
    "s = \"This is a test sentence.\"\n",
    "\n",
    "🟡 MEDIUM LEVEL\n",
    "5. Remove Punctuation\n",
    "\n",
    "Task: Remove all punctuation marks from the string.\n",
    "Input:\n",
    "\n",
    "import string\n",
    "\n",
    "s = \"Hello! This, right here, is a sentence... or is it?\"\n",
    "\n",
    "\n",
    "Hint: Use string.punctuation.\n",
    "\n",
    "6. Check for Palindrome\n",
    "\n",
    "Task: Check if a string is a palindrome (case-insensitive, ignore spaces and punctuation).\n",
    "Input:\n",
    "\n",
    "s = \"A man, a plan, a canal: Panama\"\n",
    "\n",
    "7. Most Frequent Character\n",
    "\n",
    "Task: Find the most frequently occurring character (not case-sensitive, skip spaces).\n",
    "Input:\n",
    "\n",
    "s = \"Mississippi River\"\n",
    "\n",
    "8. Capitalize First Letter of Each Word\n",
    "\n",
    "Task: Return the string with the first letter of each word capitalized.\n",
    "Input:\n",
    "\n",
    "s = \"welcome to the jungle\"\n",
    "\n",
    "9. Find All Substrings of Length k\n",
    "\n",
    "Task: Given a string and an integer k, return all substrings of length k.\n",
    "Input:\n",
    "\n",
    "s = \"abcdef\"\n",
    "k = 3\n",
    "\n",
    "🔵 INTERMEDIATE / REGEX LEVEL\n",
    "10. Extract All Numbers Using Regex\n",
    "\n",
    "Task: Use regex to extract all numbers from the string.\n",
    "Input:\n",
    "\n",
    "import re\n",
    "\n",
    "s = \"There are 24 apples, 17 bananas, and 300 cherries.\"\n",
    "\n",
    "\n",
    "Hint: Use re.findall().\n",
    "\n",
    "11. Validate Email Address Using Regex\n",
    "\n",
    "Task: Write a regex that matches valid email addresses.\n",
    "Input:\n",
    "\n",
    "emails = [\n",
    "    \"valid.email@example.com\",\n",
    "    \"invalid-email.com\",\n",
    "    \"another_valid123@test.co.uk\",\n",
    "    \"bad@.com\"\n",
    "]\n",
    "\n",
    "\n",
    "Goal: Match only valid emails.\n",
    "\n",
    "12. Replace Dates with a Placeholder\n",
    "\n",
    "Task: Replace all dates in dd/mm/yyyy format with [DATE].\n",
    "Input:\n",
    "\n",
    "s = \"Today is 10/09/2025. Yesterday was 09/09/2025.\"\n",
    "\n",
    "\n",
    "Hint: Use re.sub()."
   ]
  },
  {
   "cell_type": "code",
   "execution_count": null,
   "id": "253c9097",
   "metadata": {},
   "outputs": [
    {
     "name": "stdout",
     "output_type": "stream",
     "text": [
      "13\n",
      "13\n",
      "13\n",
      "Length: 13\n",
      "length is 13\n",
      "length is 13\n",
      "13\n",
      "2\n"
     ]
    }
   ],
   "source": [
    "# Count characters:\n",
    " \n",
    "s = \"Hello, world!\"\n",
    "\n",
    "\n",
    "print (len (s))\n",
    "\n",
    "i = 1\n",
    "array = [i := i+1 for _ in s]\n",
    "target = array [-1]\n",
    "print (target-1)\n",
    "\n",
    "\n",
    "i = 0\n",
    "for _ in s:\n",
    "    i = i+1\n",
    "print (i)\n",
    "\n",
    "\n",
    "for i, _ in enumerate(s, 1):\n",
    "    pass\n",
    "print(\"Length:\", i)\n",
    "\n",
    "\n",
    "\n",
    "def count(s, t=0):\n",
    "    if s[t]==s[-1]:\n",
    "        print (\"length is\", t+1)\n",
    "        return t+1\n",
    "    else:\n",
    "        count(s, t+1)\n",
    "\n",
    "co = count (s)\n",
    "\n",
    "\n",
    "def count(s, t=0):\n",
    "    if not s:  # empty string means we're done\n",
    "        print(\"length is\", t)\n",
    "        return t\n",
    "    return count(s[1:], t + 1)  # removes one character everytime from the start of the string.\n",
    "co = count (s)\n",
    "\n",
    "\n",
    "\n",
    "def count(s, t=0):\n",
    "    try:\n",
    "        s[t]\n",
    "        return count(s, t + 1)\n",
    "    except IndexError:\n",
    "        return t\n",
    "co = count (s)\n",
    "print(co)\n",
    "\n",
    "\n",
    "# Generator-based\n",
    "co = sum(1 for _ in iter(s))\n",
    "print(co)\n",
    "\n",
    "# Map and annonymous funcs\n",
    "count = sum(map(lambda _: 1, s))\n",
    "\n",
    "\n",
    "\n",
    "# crazy:\n",
    "import ctypes\n",
    "print (ctypes.string_at(id(s))[0])"
   ]
  },
  {
   "cell_type": "code",
   "execution_count": 25,
   "id": "2288b36d",
   "metadata": {},
   "outputs": [
    {
     "data": {
      "text/plain": [
       "True"
      ]
     },
     "execution_count": 25,
     "metadata": {},
     "output_type": "execute_result"
    }
   ],
   "source": [
    "s[-1] == s[12]"
   ]
  },
  {
   "cell_type": "code",
   "execution_count": null,
   "id": "569bd6f8",
   "metadata": {},
   "outputs": [
    {
     "name": "stdout",
     "output_type": "stream",
     "text": [
      "2098604126640\n",
      "2\n"
     ]
    }
   ],
   "source": [
    "s = \"hello\" \n",
    "\n",
    "ctypes.string_at(id(s))\n",
    "\n",
    "print (id(s))\n",
    "print (ctypes.string_at(id(s))[0])\n"
   ]
  },
  {
   "cell_type": "code",
   "execution_count": null,
   "id": "98598485",
   "metadata": {},
   "outputs": [
    {
     "name": "stdout",
     "output_type": "stream",
     "text": [
      "HELLO PYTHON\n",
      "HELLO PYTHON\n",
      "HELLO PYTHON\n",
      "HELLO PYTHON\n",
      "Hello python\n",
      "Hello Python\n"
     ]
    }
   ],
   "source": [
    "# uppercase\n",
    "\n",
    "s = \"hello python\"\n",
    "\n",
    "\n",
    "a = s.upper()\n",
    "print(a)\n",
    "\n",
    "\n",
    "a = ''\n",
    "for t in s:\n",
    "    a += t.upper()\n",
    "print(a) \n",
    "\n",
    "\n",
    "a = [ (lambda x: x.upper())(x) for x in a ]  # It simply is a bit redundant and works as [x.upper() for x in a]\n",
    "a = [x.upper() for x in s] # This returns a list of chars, which is not what we want, and join method should be used on that.\n",
    "#print(str(a))\n",
    "k = ''.join(a)\n",
    "print(k)\n",
    "\n",
    "\n",
    "a = ''.join(map(str.upper, s))\n",
    "print(a)\n",
    "\n",
    "\n",
    "\n",
    "# these functions does not work for changing the whole string to uppercase, but I thought it is worth mentioning \n",
    "capitalized = s.capitalize()\n",
    "print(capitalized)\n",
    "\n",
    "titled = s.title()\n",
    "print(titled)\n"
   ]
  },
  {
   "cell_type": "code",
   "execution_count": null,
   "id": "cede745a",
   "metadata": {},
   "outputs": [
    {
     "data": {
      "text/plain": [
       "'NOHTYP OLLEH'"
      ]
     },
     "execution_count": 57,
     "metadata": {},
     "output_type": "execute_result"
    }
   ],
   "source": [
    "# Reverse a string\n",
    "\n",
    "a[::-1]"
   ]
  }
 ],
 "metadata": {
  "kernelspec": {
   "display_name": "base",
   "language": "python",
   "name": "python3"
  },
  "language_info": {
   "codemirror_mode": {
    "name": "ipython",
    "version": 3
   },
   "file_extension": ".py",
   "mimetype": "text/x-python",
   "name": "python",
   "nbconvert_exporter": "python",
   "pygments_lexer": "ipython3",
   "version": "3.11.13"
  }
 },
 "nbformat": 4,
 "nbformat_minor": 5
}
