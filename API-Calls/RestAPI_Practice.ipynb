{
 "cells": [
  {
   "cell_type": "code",
   "execution_count": 34,
   "id": "3c9a9531",
   "metadata": {},
   "outputs": [
    {
     "data": {
      "text/plain": [
       "{'userId': 1, 'id': 1, 'title': 'delectus aut autem', 'completed': False}"
      ]
     },
     "execution_count": 34,
     "metadata": {},
     "output_type": "execute_result"
    }
   ],
   "source": [
    "import requests\n",
    "api_url = \"https://jsonplaceholder.typicode.com/todos/1\"\n",
    "response = requests.get(api_url)\n",
    "response.json()\n",
    "#{'userId': 1, 'id': 1, 'title': 'delectus aut autem', 'completed': False}\n"
   ]
  },
  {
   "cell_type": "code",
   "execution_count": 16,
   "id": "ea407b42",
   "metadata": {},
   "outputs": [
    {
     "name": "stdout",
     "output_type": "stream",
     "text": [
      "dict_items([('userId', 1), ('id', 1), ('title', 'delectus aut autem'), ('completed', False)])\n",
      "{'userId': 1, 'id': 1, 'title': 'delectus aut autem', 'completed': False}\n"
     ]
    },
    {
     "data": {
      "text/plain": [
       "1"
      ]
     },
     "execution_count": 16,
     "metadata": {},
     "output_type": "execute_result"
    }
   ],
   "source": [
    "dict1 = response.json().items()\n",
    "dict2 = response.json()\n",
    "print(dict1)\n",
    "print(dict2)\n",
    "dict2['userId']"
   ]
  },
  {
   "cell_type": "code",
   "execution_count": 28,
   "id": "49f92362",
   "metadata": {},
   "outputs": [
    {
     "data": {
      "text/plain": [
       "{'Date': 'Sun, 11 May 2025 04:09:28 GMT', 'Content-Type': 'application/json; charset=utf-8', 'Content-Length': '82', 'Connection': 'keep-alive', 'Server': 'cloudflare', 'Report-To': '{\"group\":\"heroku-nel\",\"max_age\":3600,\"endpoints\":[{\"url\":\"https://nel.heroku.com/reports?ts=1746936568&sid=e11707d5-02a7-43ef-b45e-2cf4d2036f7d&s=s691s%2Fg7NboO%2BFpg%2Fs4b4k4bXf0GgfrQfgMAfO%2Fu1ao%3D\"}]}', 'Reporting-Endpoints': 'heroku-nel=https://nel.heroku.com/reports?ts=1746936568&sid=e11707d5-02a7-43ef-b45e-2cf4d2036f7d&s=s691s%2Fg7NboO%2BFpg%2Fs4b4k4bXf0GgfrQfgMAfO%2Fu1ao%3D', 'Nel': '{\"report_to\":\"heroku-nel\",\"max_age\":3600,\"success_fraction\":0.005,\"failure_fraction\":0.05,\"response_headers\":[\"Via\"]}', 'X-Powered-By': 'Express', 'X-Ratelimit-Limit': '1000', 'X-Ratelimit-Remaining': '999', 'X-Ratelimit-Reset': '1746936606', 'Vary': 'Origin, X-HTTP-Method-Override, Accept-Encoding', 'Access-Control-Allow-Credentials': 'true', 'Cache-Control': 'no-cache', 'Pragma': 'no-cache', 'Expires': '-1', 'Access-Control-Expose-Headers': 'Location', 'Location': 'https://jsonplaceholder.typicode.com/todos/201', 'X-Content-Type-Options': 'nosniff', 'Etag': 'W/\"52-bmbI6/OLATPPB6zPrrwbiITJhtk\"', 'Via': '1.1 vegur', 'Cf-Cache-Status': 'DYNAMIC', 'CF-RAY': '93ded22dce5a47a2-DFW', 'alt-svc': 'h3=\":443\"; ma=86400'}"
      ]
     },
     "execution_count": 28,
     "metadata": {},
     "output_type": "execute_result"
    }
   ],
   "source": [
    "# response.status_code\n",
    "\n",
    "# response.headers[\"Content-Type\"]\n",
    "\n",
    "response.headers"
   ]
  },
  {
   "cell_type": "code",
   "execution_count": 20,
   "id": "abbd53a2",
   "metadata": {},
   "outputs": [
    {
     "data": {
      "text/plain": [
       "201"
      ]
     },
     "execution_count": 20,
     "metadata": {},
     "output_type": "execute_result"
    }
   ],
   "source": [
    ">>> import requests\n",
    ">>> api_url = \"https://jsonplaceholder.typicode.com/todos/1\"\n",
    ">>> todo = {\"userId\": 1, \"title\": \"Buy milk cartons\", \"completed\": False}\n",
    ">>> response = requests.post(api_url, json=todo)\n",
    ">>> response.json()\n",
    "{'userId': 1, 'title': 'Buy milk', 'completed': False, 'id': 201}\n",
    "\n",
    ">>> response.status_code\n",
    "201\n"
   ]
  },
  {
   "cell_type": "code",
   "execution_count": 30,
   "id": "330f3120",
   "metadata": {},
   "outputs": [
    {
     "name": "stdout",
     "output_type": "stream",
     "text": [
      "{'userId': 1, 'title': 'Buy milk Carton', 'completed': False, 'id': 201}\n"
     ]
    },
    {
     "data": {
      "text/plain": [
       "201"
      ]
     },
     "execution_count": 30,
     "metadata": {},
     "output_type": "execute_result"
    }
   ],
   "source": [
    "\n",
    "import requests\n",
    "import json\n",
    "api_url = \"https://jsonplaceholder.typicode.com/todos\"\n",
    "todo = {\"userId\": 1, \"title\": \"Buy milk Carton\", \"completed\": False}\n",
    "headers =  {\"Content-Type\":\"application/json\"}\n",
    "response = requests.post(api_url, data=json.dumps(todo), headers=headers)\n",
    "print (response.json())\n",
    "\n",
    "#{'userId': 1, 'title': 'Buy milk', 'completed': False, 'id': 201}\n",
    "\n",
    "response.status_code"
   ]
  },
  {
   "cell_type": "code",
   "execution_count": 37,
   "id": "7f19dac7",
   "metadata": {},
   "outputs": [
    {
     "data": {
      "text/plain": [
       "{'Date': 'Sun, 11 May 2025 04:26:58 GMT', 'Content-Type': 'application/json; charset=utf-8', 'Transfer-Encoding': 'chunked', 'Connection': 'keep-alive', 'Server': 'cloudflare', 'Report-To': '{\"group\":\"heroku-nel\",\"max_age\":3600,\"endpoints\":[{\"url\":\"https://nel.heroku.com/reports?ts=1746474818&sid=e11707d5-02a7-43ef-b45e-2cf4d2036f7d&s=x6MZshfsTgbgMFUn8vtxzTKqs9ZtMutBf%2BE0gy970kE%3D\"}]}', 'Reporting-Endpoints': 'heroku-nel=https://nel.heroku.com/reports?ts=1746474818&sid=e11707d5-02a7-43ef-b45e-2cf4d2036f7d&s=x6MZshfsTgbgMFUn8vtxzTKqs9ZtMutBf%2BE0gy970kE%3D', 'Nel': '{\"report_to\":\"heroku-nel\",\"max_age\":3600,\"success_fraction\":0.005,\"failure_fraction\":0.05,\"response_headers\":[\"Via\"]}', 'X-Powered-By': 'Express', 'X-Ratelimit-Limit': '1000', 'X-Ratelimit-Remaining': '999', 'X-Ratelimit-Reset': '1746474847', 'Vary': 'Origin, Accept-Encoding', 'Access-Control-Allow-Credentials': 'true', 'Cache-Control': 'max-age=43200', 'Pragma': 'no-cache', 'Expires': '-1', 'X-Content-Type-Options': 'nosniff', 'Etag': 'W/\"53-hfEnumeNh6YirfjyjaujcOPPT+s\"', 'Via': '1.1 vegur', 'Age': '1996', 'Cf-Cache-Status': 'HIT', 'Content-Encoding': 'br', 'CF-RAY': '93deebd0f842e916-DFW', 'alt-svc': 'h3=\":443\"; ma=86400'}"
      ]
     },
     "execution_count": 37,
     "metadata": {},
     "output_type": "execute_result"
    }
   ],
   "source": [
    "response.headers"
   ]
  },
  {
   "cell_type": "code",
   "execution_count": 38,
   "id": "eb2ce376",
   "metadata": {},
   "outputs": [
    {
     "ename": "SyntaxError",
     "evalue": "invalid syntax (1018813375.py, line 1)",
     "output_type": "error",
     "traceback": [
      "\u001b[1;36m  Cell \u001b[1;32mIn[38], line 1\u001b[1;36m\u001b[0m\n\u001b[1;33m    GET /cars/1 HTTP/1.1\u001b[0m\n\u001b[1;37m                ^\u001b[0m\n\u001b[1;31mSyntaxError\u001b[0m\u001b[1;31m:\u001b[0m invalid syntax\n"
     ]
    }
   ],
   "source": [
    "GET /cars/1 HTTP/1.1\n",
    "Host: api.example.com\n",
    "    "
   ]
  }
 ],
 "metadata": {
  "kernelspec": {
   "display_name": "Python 3 (ipykernel)",
   "language": "python",
   "name": "python3"
  },
  "language_info": {
   "codemirror_mode": {
    "name": "ipython",
    "version": 3
   },
   "file_extension": ".py",
   "mimetype": "text/x-python",
   "name": "python",
   "nbconvert_exporter": "python",
   "pygments_lexer": "ipython3",
   "version": "3.11.5"
  }
 },
 "nbformat": 4,
 "nbformat_minor": 5
}
