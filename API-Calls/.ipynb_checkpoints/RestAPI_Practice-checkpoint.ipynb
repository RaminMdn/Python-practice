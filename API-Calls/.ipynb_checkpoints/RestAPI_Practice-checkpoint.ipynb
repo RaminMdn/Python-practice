{
 "cells": [
  {
   "cell_type": "code",
   "execution_count": 2,
   "id": "3bb98fbb",
   "metadata": {},
   "outputs": [
    {
     "data": {
      "text/plain": [
       "{'userId': 1, 'id': 1, 'title': 'delectus aut autem', 'completed': False}"
      ]
     },
     "execution_count": 2,
     "metadata": {},
     "output_type": "execute_result"
    }
   ],
   "source": [
    "import requests\n",
    "api_url = \"https://jsonplaceholder.typicode.com/todos/1\"\n",
    "response = requests.get(api_url)\n",
    "response.json()\n",
    "#{'userId': 1, 'id': 1, 'title': 'delectus aut autem', 'completed': False}\n"
   ]
  },
  {
   "cell_type": "code",
   "execution_count": 12,
   "id": "8afa6e98",
   "metadata": {},
   "outputs": [
    {
     "name": "stdout",
     "output_type": "stream",
     "text": [
      "dict_items([('userId', 1), ('id', 1), ('title', 'delectus aut autem'), ('completed', False)])\n",
      "{'userId': 1, 'id': 1, 'title': 'delectus aut autem', 'completed': False}\n"
     ]
    }
   ],
   "source": [
    "dict1 = response.json().items()\n",
    "dict2 = response.json()\n",
    "print(dict1)\n",
    "print(dict2)"
   ]
  },
  {
   "cell_type": "code",
   "execution_count": null,
   "id": "540ac4f9",
   "metadata": {},
   "outputs": [],
   "source": [
    ">>> import requests\n",
    ">>> api_url = \"https://jsonplaceholder.typicode.com/todos\"\n",
    ">>> todo = {\"userId\": 1, \"title\": \"Buy milk\", \"completed\": False}\n",
    ">>> response = requests.post(api_url, json=todo)\n",
    ">>> response.json()\n",
    "{'userId': 1, 'title': 'Buy milk', 'completed': False, 'id': 201}\n",
    "\n",
    ">>> response.status_code\n",
    "201\n"
   ]
  }
 ],
 "metadata": {
  "kernelspec": {
   "display_name": "Python 3 (ipykernel)",
   "language": "python",
   "name": "python3"
  },
  "language_info": {
   "codemirror_mode": {
    "name": "ipython",
    "version": 3
   },
   "file_extension": ".py",
   "mimetype": "text/x-python",
   "name": "python",
   "nbconvert_exporter": "python",
   "pygments_lexer": "ipython3",
   "version": "3.11.5"
  }
 },
 "nbformat": 4,
 "nbformat_minor": 5
}
