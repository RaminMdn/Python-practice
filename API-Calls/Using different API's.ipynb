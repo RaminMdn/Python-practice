{
 "cells": [
  {
   "cell_type": "markdown",
   "id": "81b3008d",
   "metadata": {},
   "source": [
    "### Wikipedia (using the URL)\n",
    "\n",
    "Data is received from the API from the URL"
   ]
  },
  {
   "cell_type": "code",
   "execution_count": 1,
   "id": "5f80b517",
   "metadata": {},
   "outputs": [],
   "source": [
    "%%capture\n",
    "import warnings\n",
    "# ignore warnings\n",
    "warnings.filterwarnings(\"ignore\")\n",
    "from subprocess import check_output\n",
    "# print(check_output([\"ls\", \"../input\"]).decode(\"utf8\"))\n",
    "print(check_output(\"dir .\", shell=True).decode(\"utf8\"))"
   ]
  },
  {
   "cell_type": "markdown",
   "id": "33178d83",
   "metadata": {},
   "source": [
    "Wikipedia module documentation: https://wikipedia.readthedocs.io/en/latest/code.html#module-wikipedia"
   ]
  },
  {
   "cell_type": "code",
   "execution_count": null,
   "id": "4b78ee3c",
   "metadata": {},
   "outputs": [
    {
     "name": "stdout",
     "output_type": "stream",
     "text": [
      "The Fédération Internationale de Football Association (lit. 'International Federation of Association Football'), more commonly known by its acronym FIFA ( FEE-fə), is the international self-regulatory governing body of association football, beach soccer, and futsal. It was founded on 21 May 1904 to oversee international competition among the national associations of Belgium, Denmark, France, Germany, the Netherlands, Spain (represented by Real Madrid CF), Sweden, and Switzerland. Headquartered in Zurich, Switzerland, its membership now comprises 211 national associations. These national associations must also be members of one of the six regional confederations: CAF (Africa), AFC (Asia), UEFA (Europe), CONCACAF (North & Central America and the Caribbean), OFC (Oceania), and CONMEBOL (South America).\n",
      "FIFA is a sports governing body that organizes football events all over the world. FIFA outlines several objectives in its organizational statutes, including growing football internationally, ensuring it is accessible to everyone, and advocating for integrity and fair play. It is responsible for organizing and promoting football's major international tournaments, notably the World Cup which began in 1930, and the Women's World Cup which commenced in 1991. Although FIFA does not solely set the laws of the game, that being the responsibility of the International Football Association Board of which FIFA is a member, it applies and enforces the rules across all FIFA competitions. All FIFA tournaments generate revenue from sponsorships; in 2022, FIFA had revenues of over US$5.8 billion, ending the 2019–2022 cycle with a net positive of $1.2 billion, and cash reserves of over $3.9 billion.\n",
      "Reports by investigative journalists have linked FIFA leadership with corruption, bribery, and vote-rigging related to the election of FIFA president Sepp Blatter and the organization's decision to award the 2018 and 2022 World Cups to Russia and Qatar, respectively. These allegations led to the indictments of nine high-ranking FIFA officials and five corporate executives by the US Department of Justice on charges including racketeering, wire fraud, and money laundering. On 27 May 2015, several of these officials were arrested by Swiss authorities, who launched a simultaneous but separate criminal investigation into how the organization awarded the 2018 and 2022 World Cups. Those among these officials who were also indicted in the US are expected to be extradited to face charges there as well.\n",
      "Many officials were suspended by FIFA's ethics committee including Sepp Blatter and Michel Platini. In early 2017, reports became public about FIFA president Gianni Infantino attempting to prevent the re-elections of both chairmen of the ethics committee, Cornel Borbély and Hans-Joachim Eckert, during the FIFA congress in May 2017. On 9 May 2017, following Infantino's proposal, the FIFA Council decided not to renew the mandates of Borbély and Eckert. Together with the chairmen, 11 of 13 committee members were removed. FIFA has been suspected of corruption regarding the Qatar 2022 FIFA World Cup bid.\n"
     ]
    }
   ],
   "source": [
    "# Usage of the API using the URL\n",
    "\n",
    "import requests\n",
    "import re\n",
    "\n",
    "def get_wikipedia_summary(topic):\n",
    "    url = f\"https://en.wikipedia.org/w/api.php\"\n",
    "    params = {\n",
    "        \"action\": \"query\",\n",
    "        \"format\": \"json\",\n",
    "        \"titles\": topic,\n",
    "        \"prop\": \"extracts\",\n",
    "        \"exintro\": True,\n",
    "        \"explaintext\": True,\n",
    "    }\n",
    "    response = requests.get(url, params=params)\n",
    "    data = response.json()\n",
    "    page = next(iter(data['query']['pages'].values()))\n",
    "    final = page.get('extract', 'No summary available.')\n",
    "    return final\n",
    "\n",
    "# Example\n",
    "print(get_wikipedia_summary(\"FIFA\"))\n"
   ]
  },
  {
   "cell_type": "code",
   "execution_count": 3,
   "id": "e0bae6d3",
   "metadata": {},
   "outputs": [
    {
     "name": "stdout",
     "output_type": "stream",
     "text": [
      "\n",
      " The response result is: \n",
      "\n",
      " <Response [200]>\n",
      "\n",
      " The data result is: \n",
      "\n",
      " {'batchcomplete': '', 'query': {'pages': {'11049': {'pageid': 11049, 'ns': 0, 'title': 'FIFA', 'extract': \"The Fédération Internationale de Football Association (lit.\\u2009'International Federation of Association Football'), more commonly known by its acronym FIFA ( FEE-fə), is the international self-regulatory governing body of association football, beach soccer, and futsal. It was founded on 21 May 1904 to oversee international competition among the national associations of Belgium, Denmark, France, Germany, the Netherlands, Spain (represented by Real Madrid CF), Sweden, and Switzerland. Headquartered in Zurich, Switzerland, its membership now comprises 211 national associations. These national associations must also be members of one of the six regional confederations: CAF (Africa), AFC (Asia), UEFA (Europe), CONCACAF (North & Central America and the Caribbean), OFC (Oceania), and CONMEBOL (South America).\\nFIFA is a sports governing body that organizes football events all over the world. FIFA outlines several objectives in its organizational statutes, including growing football internationally, ensuring it is accessible to everyone, and advocating for integrity and fair play. It is responsible for organizing and promoting football's major international tournaments, notably the World Cup which began in 1930, and the Women's World Cup which commenced in 1991. Although FIFA does not solely set the laws of the game, that being the responsibility of the International Football Association Board of which FIFA is a member, it applies and enforces the rules across all FIFA competitions. All FIFA tournaments generate revenue from sponsorships; in 2022, FIFA had revenues of over US$5.8 billion, ending the 2019–2022 cycle with a net positive of $1.2 billion, and cash reserves of over $3.9 billion.\\nReports by investigative journalists have linked FIFA leadership with corruption, bribery, and vote-rigging related to the election of FIFA president Sepp Blatter and the organization's decision to award the 2018 and 2022 World Cups to Russia and Qatar, respectively. These allegations led to the indictments of nine high-ranking FIFA officials and five corporate executives by the US Department of Justice on charges including racketeering, wire fraud, and money laundering. On 27 May 2015, several of these officials were arrested by Swiss authorities, who launched a simultaneous but separate criminal investigation into how the organization awarded the 2018 and 2022 World Cups. Those among these officials who were also indicted in the US are expected to be extradited to face charges there as well.\\nMany officials were suspended by FIFA's ethics committee including Sepp Blatter and Michel Platini. In early 2017, reports became public about FIFA president Gianni Infantino attempting to prevent the re-elections of both chairmen of the ethics committee, Cornel Borbély and Hans-Joachim Eckert, during the FIFA congress in May 2017. On 9 May 2017, following Infantino's proposal, the FIFA Council decided not to renew the mandates of Borbély and Eckert. Together with the chairmen, 11 of 13 committee members were removed. FIFA has been suspected of corruption regarding the Qatar 2022 FIFA World Cup bid.\"}}}}\n",
      "\n",
      " The page result is: \n",
      "\n",
      " {'pageid': 11049, 'ns': 0, 'title': 'FIFA', 'extract': \"The Fédération Internationale de Football Association (lit.\\u2009'International Federation of Association Football'), more commonly known by its acronym FIFA ( FEE-fə), is the international self-regulatory governing body of association football, beach soccer, and futsal. It was founded on 21 May 1904 to oversee international competition among the national associations of Belgium, Denmark, France, Germany, the Netherlands, Spain (represented by Real Madrid CF), Sweden, and Switzerland. Headquartered in Zurich, Switzerland, its membership now comprises 211 national associations. These national associations must also be members of one of the six regional confederations: CAF (Africa), AFC (Asia), UEFA (Europe), CONCACAF (North & Central America and the Caribbean), OFC (Oceania), and CONMEBOL (South America).\\nFIFA is a sports governing body that organizes football events all over the world. FIFA outlines several objectives in its organizational statutes, including growing football internationally, ensuring it is accessible to everyone, and advocating for integrity and fair play. It is responsible for organizing and promoting football's major international tournaments, notably the World Cup which began in 1930, and the Women's World Cup which commenced in 1991. Although FIFA does not solely set the laws of the game, that being the responsibility of the International Football Association Board of which FIFA is a member, it applies and enforces the rules across all FIFA competitions. All FIFA tournaments generate revenue from sponsorships; in 2022, FIFA had revenues of over US$5.8 billion, ending the 2019–2022 cycle with a net positive of $1.2 billion, and cash reserves of over $3.9 billion.\\nReports by investigative journalists have linked FIFA leadership with corruption, bribery, and vote-rigging related to the election of FIFA president Sepp Blatter and the organization's decision to award the 2018 and 2022 World Cups to Russia and Qatar, respectively. These allegations led to the indictments of nine high-ranking FIFA officials and five corporate executives by the US Department of Justice on charges including racketeering, wire fraud, and money laundering. On 27 May 2015, several of these officials were arrested by Swiss authorities, who launched a simultaneous but separate criminal investigation into how the organization awarded the 2018 and 2022 World Cups. Those among these officials who were also indicted in the US are expected to be extradited to face charges there as well.\\nMany officials were suspended by FIFA's ethics committee including Sepp Blatter and Michel Platini. In early 2017, reports became public about FIFA president Gianni Infantino attempting to prevent the re-elections of both chairmen of the ethics committee, Cornel Borbély and Hans-Joachim Eckert, during the FIFA congress in May 2017. On 9 May 2017, following Infantino's proposal, the FIFA Council decided not to renew the mandates of Borbély and Eckert. Together with the chairmen, 11 of 13 committee members were removed. FIFA has been suspected of corruption regarding the Qatar 2022 FIFA World Cup bid.\"}\n",
      "\n",
      "The first  2 paragraphs of the summary are:\n",
      "\n",
      "The Fédération Internationale de Football Association (lit. 'International Federation of Association Football'), more commonly known by its acronym FIFA ( FEE-fə), is the international self-regulatory governing body of association football, beach soccer, and futsal. It was founded on 21 May 1904 to oversee international competition among the national associations of Belgium, Denmark, France, Germany, the Netherlands, Spain (represented by Real Madrid CF), Sweden, and Switzerland. Headquartered in Zurich, Switzerland, its membership now comprises 211 national associations. These national associations must also be members of one of the six regional confederations: CAF (Africa), AFC (Asia), UEFA (Europe), CONCACAF (North & Central America and the Caribbean), OFC (Oceania), and CONMEBOL (South America).\n",
      "FIFA is a sports governing body that organizes football events all over the world. FIFA outlines several objectives in its organizational statutes, including growing football internationally, ensuring it is accessible to everyone, and advocating for integrity and fair play. It is responsible for organizing and promoting football's major international tournaments, notably the World Cup which began in 1930, and the Women's World Cup which commenced in 1991. Although FIFA does not solely set the laws of the game, that being the responsibility of the International Football Association Board of which FIFA is a member, it applies and enforces the rules across all FIFA competitions. All FIFA tournaments generate revenue from sponsorships; in 2022, FIFA had revenues of over US$5.8 billion, ending the 2019–2022 cycle with a net positive of $1.2 billion, and cash reserves of over $3.9 billion.\n",
      "\n",
      "The first 4 sentences of the summary are:\n",
      "\n",
      "The Fédération Internationale de Football Association (lit. 'International Federation of Association Football'), more commonly known by its acronym FIFA ( FEE-fə), is the international self-regulatory governing body of association football, beach soccer, and futsal.\n",
      "It was founded on 21 May 1904 to oversee international competition among the national associations of Belgium, Denmark, France, Germany, the Netherlands, Spain (represented by Real Madrid CF), Sweden, and Switzerland.\n",
      "Headquartered in Zurich, Switzerland, its membership now comprises 211 national associations.\n",
      "These national associations must also be members of one of the six regional confederations: CAF (Africa), AFC (Asia), UEFA (Europe), CONCACAF (North & Central America and the Caribbean), OFC (Oceania), and CONMEBOL (South America).\n",
      "FIFA is a sports governing body that organizes football events all over the world.\n",
      "\n",
      "Total number of sentences in the extract: 15\n"
     ]
    }
   ],
   "source": [
    "\n",
    "url = f\"https://en.wikipedia.org/w/api.php\"\n",
    "params = {\n",
    "    \"action\": \"query\",\n",
    "    \"format\": \"json\",\n",
    "    \"titles\": \"FIFA\",\n",
    "    \"prop\": \"extracts\",\n",
    "    \"exintro\": True,\n",
    "    \"explaintext\": True,\n",
    "}\n",
    "response = requests.get(url, params=params)\n",
    "data = response.json()\n",
    "page = next(iter(data['query']['pages'].values()))\n",
    "final = page.get('extract', 'No summary available.')\n",
    "\n",
    "print (f\"\\n The response result is: \\n\\n {response}\")\n",
    "print (f\"\\n The data result is: \\n\\n {data}\")\n",
    "print (f\"\\n The page result is: \\n\\n {page}\")\n",
    "#print (f\"\\n The final result is: \\n\\n {final}\")\n",
    "\n",
    "# Print only the first 2 paragraphs of the extract\n",
    "lines = final.split('\\n')\n",
    "print(\"\\nThe first  2 paragraphs of the summary are:\\n\")\n",
    "for line in lines[:2]:\n",
    "    print(line)\n",
    "    \n",
    "# Split the extract into sentences using regex\n",
    "sentences = re.split(r'(?<=[.!?]) +', final)\n",
    "\n",
    "# Print the first 4 sentences\n",
    "print(\"\\nThe first 4 sentences of the summary are:\\n\")\n",
    "for sentence in sentences[:4]:\n",
    "    print(sentence)\n",
    "    \n",
    "# Count and print the number of sentences\n",
    "num_sentences = len([s for s in sentences if s.strip()])  # ignore empty ones\n",
    "print(f\"\\nTotal number of sentences in the extract: {num_sentences}\")\n",
    "\n"
   ]
  },
  {
   "cell_type": "markdown",
   "id": "fcfa0293",
   "metadata": {},
   "source": [
    "### Wikipedia (using the 'wikipedia' module)\n",
    "\n",
    "Data is received from the API from the 'wikipedia' module in Python"
   ]
  },
  {
   "cell_type": "code",
   "execution_count": 4,
   "id": "b23d0a0d",
   "metadata": {},
   "outputs": [
    {
     "name": "stdout",
     "output_type": "stream",
     "text": [
      "FIFA World Cup\n",
      "The FIFA World Cup, often called the World Cup, is an international association football competition among the senior men's national teams of the members of the Fédération Internationale de Football Association (FIFA), the sport's global governing body. The tournament has been held every four years since the inaugural tournament in 1930, with the exception of 1942 and 1946 due to the Second World War. The reigning champions are Argentina, who won their third title at the 2022 World Cup by defeating France.\n",
      "The contest starts with the qualification phase, which takes place over the preceding three years to determine which teams qualify for the tournament phase. In the tournament phase, 32 teams compete for the title at venues within the host nation(s) over the course of about a month. The host nation(s) automatically qualify for the group stage of the tournament. The competition is scheduled to expand to 48 teams, starting with the 2026 World Cup.\n",
      "As of the 2022 World Cup, 22 final tournaments have been held since the event's inception in 1930, and a total of 80 national teams have competed. The trophy has been won by eight national teams. With five wins, Brazil  is the only team to have played in every tournament. The other World Cup winners are Germany and Italy, with four titles each; Argentina, with three titles; France and inaugural winner Uruguay, each with two titles; and England and Spain, with one title each.\n",
      "The World Cup is globally regarded as the most prestigious association football competition, as well as the most widely viewed and followed sporting event in the world. The viewership of the 2018 World Cup was estimated to be 3.57 billion, close to half of the global population, while the engagement with the 2022 World Cup was estimated to be 5 billion, with about 1.5 billion people watching the final match.\n",
      "Eighteen countries have hosted the World Cup, most recently Qatar, who hosted the 2022 event. The 2026 tournament will be jointly hosted by Canada, Mexico, and the United States, which will give Mexico the distinction of being the first country to host games in three World Cups.\n"
     ]
    }
   ],
   "source": [
    "# Usage of the API using the module in Python\n",
    "\n",
    "import wikipedia\n",
    "\n",
    "# Set language to English (optional)\n",
    "wikipedia.set_lang(\"en\")\n",
    "\n",
    "# Fetch the content of the Wikipedia page\n",
    "page_title = \"FIFA\"\n",
    "\n",
    "sres = wikipedia.search(\"FIFA\")\n",
    "\n",
    "print (sres[2])\n",
    "\n",
    "\n",
    "summary = wikipedia.page(sres[2]).summary\n",
    "\n",
    "print (summary)"
   ]
  },
  {
   "cell_type": "markdown",
   "id": "4a08193e",
   "metadata": {},
   "source": [
    "### Weather\n",
    "\n",
    "Data is received from API using the URL"
   ]
  },
  {
   "cell_type": "code",
   "execution_count": null,
   "id": "96a86a6a",
   "metadata": {},
   "outputs": [
    {
     "name": "stdout",
     "output_type": "stream",
     "text": [
      "{'coord': {'lon': -0.1257, 'lat': 51.5085}, 'weather': [{'id': 800, 'main': 'Clear', 'description': 'clear sky', 'icon': '01d'}], 'base': 'stations', 'main': {'temp': 28.47, 'feels_like': 28.6, 'temp_min': 27.62, 'temp_max': 29.95, 'pressure': 1024, 'humidity': 46, 'sea_level': 1024, 'grnd_level': 1020}, 'visibility': 10000, 'wind': {'speed': 2.06, 'deg': 0}, 'clouds': {'all': 0}, 'dt': 1755263426, 'sys': {'type': 2, 'id': 268730, 'country': 'GB', 'sunrise': 1755233173, 'sunset': 1755285839}, 'timezone': 3600, 'id': 2643743, 'name': 'London', 'cod': 200}\n",
      "\n",
      "📋 WEATHER SUMMARY\n",
      "\n",
      "+----------------------+---------------------+\n",
      "|        Metric        |        Value        |\n",
      "+----------------------+---------------------+\n",
      "|         City         |       Killeen       |\n",
      "|       Country        |         US          |\n",
      "|       Weather        | Clouds (Few clouds) |\n",
      "|   Temperature (°C)   |        26.72        |\n",
      "|   Feels Like (°C)    |        29.53        |\n",
      "| Min Temperature (°C) |        25.55        |\n",
      "| Max Temperature (°C) |        27.17        |\n",
      "|     Humidity (%)     |         85          |\n",
      "|    Pressure (hPa)    |        1017         |\n",
      "|   Visibility (km)    |        10.0         |\n",
      "|   Wind Speed (m/s)   |        2.57         |\n",
      "|  Wind Direction (°)  |         180         |\n",
      "|   Wind Gust (m/s)    |         N/A         |\n",
      "|  Cloud Coverage (%)  |         20          |\n",
      "|       Sunrise        |      06:57:01       |\n",
      "|        Sunset        |      20:13:54       |\n",
      "+----------------------+---------------------+\n"
     ]
    },
    {
     "data": {
      "image/png": "[encoded data removed]",
      "text/plain": [
       "<Figure size 1200x800 with 4 Axes>"
      ]
     },
     "metadata": {},
     "output_type": "display_data"
    }
   ],
   "source": [
    "import requests\n",
    "\n",
    "def get_weather(city, api_key):\n",
    "    url = f\"http://api.openweathermap.org/data/2.5/weather\"\n",
    "    params = {\n",
    "        \"q\": city,\n",
    "        \"appid\": api_key,\n",
    "        \"units\": \"metric\",\n",
    "    }\n",
    "    response = requests.get(url, params=params)\n",
    "    return response.json()\n",
    "\n",
    "# Example usage\n",
    "api_key = \"a0559d8b09966c943d02bb3434a4bf42\"\n",
    "weather_data = get_weather(\"London\", api_key)\n",
    "print(weather_data)\n",
    "\n",
    "\n",
    "\n",
    "\n",
    "import requests\n",
    "import pandas as pd\n",
    "import matplotlib.pyplot as plt\n",
    "from tabulate import tabulate\n",
    "from datetime import datetime\n",
    "\n",
    "def get_weather(city, api_key):\n",
    "    url = \"http://api.openweathermap.org/data/2.5/weather\"\n",
    "    params = {\n",
    "        \"q\": city,\n",
    "        \"appid\": api_key,\n",
    "        \"units\": \"metric\",\n",
    "    }\n",
    "    response = requests.get(url, params=params)\n",
    "    return response.json()\n",
    "\n",
    "def kelvin_to_celsius(k):\n",
    "    return round(k - 273.15, 2)\n",
    "\n",
    "def unix_to_time(ts, timezone_offset):\n",
    "    return datetime.utcfromtimestamp(ts + timezone_offset).strftime('%H:%M:%S')\n",
    "\n",
    "def analyze_weather(data):\n",
    "    # Extract fields\n",
    "    city = data['name']\n",
    "    country = data['sys']['country']\n",
    "    weather_main = data['weather'][0]['main']\n",
    "    description = data['weather'][0]['description'].capitalize()\n",
    "    icon_code = data['weather'][0]['icon']\n",
    "    temp = data['main']['temp']\n",
    "    feels_like = data['main']['feels_like']\n",
    "    temp_min = data['main']['temp_min']\n",
    "    temp_max = data['main']['temp_max']\n",
    "    humidity = data['main']['humidity']\n",
    "    pressure = data['main']['pressure']\n",
    "    visibility_km = data['visibility'] / 1000\n",
    "    wind_speed = data['wind']['speed']\n",
    "    wind_deg = data['wind']['deg']\n",
    "    gust = data['wind'].get('gust', 'N/A')\n",
    "    cloud_coverage = data['clouds']['all']\n",
    "    sunrise = unix_to_time(data['sys']['sunrise'], data['timezone'])\n",
    "    sunset = unix_to_time(data['sys']['sunset'], data['timezone'])\n",
    "\n",
    "    # Build data for table\n",
    "    info = [\n",
    "        [\"City\", city],\n",
    "        [\"Country\", country],\n",
    "        [\"Weather\", f\"{weather_main} ({description})\"],\n",
    "        [\"Temperature (°C)\", temp],\n",
    "        [\"Feels Like (°C)\", feels_like],\n",
    "        [\"Min Temperature (°C)\", temp_min],\n",
    "        [\"Max Temperature (°C)\", temp_max],\n",
    "        [\"Humidity (%)\", humidity],\n",
    "        [\"Pressure (hPa)\", pressure],\n",
    "        [\"Visibility (km)\", visibility_km],\n",
    "        [\"Wind Speed (m/s)\", wind_speed],\n",
    "        [\"Wind Direction (°)\", wind_deg],\n",
    "        [\"Wind Gust (m/s)\", gust],\n",
    "        [\"Cloud Coverage (%)\", cloud_coverage],\n",
    "        [\"Sunrise\", sunrise],\n",
    "        [\"Sunset\", sunset]\n",
    "    ]\n",
    "\n",
    "    print(\"\\n WEATHER SUMMARY\\n\")\n",
    "    print(tabulate(info, headers=[\"Metric\", \"Value\"], tablefmt=\"pretty\"))\n",
    "\n",
    "    # Plot graphs\n",
    "    plot_weather_summary(temp, feels_like, temp_min, temp_max, humidity, pressure, wind_speed, cloud_coverage)\n",
    "\n",
    "def plot_weather_summary(temp, feels_like, temp_min, temp_max, humidity, pressure, wind_speed, cloud_coverage):\n",
    "    fig, axs = plt.subplots(2, 2, figsize=(12, 8))\n",
    "    axs = axs.flatten()\n",
    "\n",
    "    # 1. Temperature bar\n",
    "    axs[0].bar([\"Actual\", \"Feels Like\", \"Min\", \"Max\"], [temp, feels_like, temp_min, temp_max], color=\"orange\")\n",
    "    axs[0].set_title(\"Temperature Overview (°C)\")\n",
    "\n",
    "    # 2. Humidity & Cloud\n",
    "    axs[1].bar([\"Humidity\", \"Clouds\"], [humidity, cloud_coverage], color=[\"blue\", \"gray\"])\n",
    "    axs[1].set_title(\"Humidity and Cloud Cover (%)\")\n",
    "\n",
    "    # 3. Wind Info\n",
    "    axs[2].bar([\"Speed (m/s)\"], [wind_speed], color=\"green\")\n",
    "    axs[2].set_title(\"Wind Speed\")\n",
    "\n",
    "    # 4. Pressure\n",
    "    axs[3].bar([\"Pressure\"], [pressure], color=\"purple\")\n",
    "    axs[3].set_title(\"Air Pressure (hPa)\")\n",
    "\n",
    "    for ax in axs:\n",
    "        ax.grid(True)\n",
    "        for label in ax.get_xticklabels():\n",
    "            label.set_rotation(15)\n",
    "\n",
    "    plt.tight_layout()\n",
    "    plt.suptitle(\"Weather Snapshot\", fontsize=16, y=1.05)\n",
    "    plt.show()\n",
    "\n",
    "\n",
    "# === Example usage ===\n",
    "# api_key = \"your_openweathermap_api_key\"  # replace with real API key\n",
    "weather_data = get_weather(\"Killeen\", api_key)\n",
    "analyze_weather(weather_data)\n",
    "\n"
   ]
  },
  {
   "cell_type": "markdown",
   "id": "90b101ad",
   "metadata": {},
   "source": [
    "### NASA picture of the day\n",
    "\n",
    "Data is received from API URL of NASA"
   ]
  },
  {
   "cell_type": "code",
   "execution_count": 6,
   "id": "f55fb416",
   "metadata": {},
   "outputs": [
    {
     "name": "stdout",
     "output_type": "stream",
     "text": [
      "{'copyright': 'Jeff Dai', 'date': '2025-08-15', 'explanation': 'In the predawn sky on August 13, two planets were close. And despite the glare of a waning gibbous Moon, bright Jupiter and even brighter Venus were hard to miss. Their brilliant close conjunction is posing above the eastern horizon in this early morning skyscape. The scene was captured in a single exposure from a site near Gansu, China, with light from both planets reflected in the still waters of a local pond. Also seen against the moonlight were flashes from the annual Perseid Meteor Shower, known for its bright, fast meteors. Near the much anticipated peak of activity, the shower meteors briefly combined with the two planets for a celestial spectacle even in moonlit skies.', 'hdurl': 'https://apod.nasa.gov/apod/image/2508/IMG_20250813_202125_2048.jpg', 'media_type': 'image', 'service_version': 'v1', 'title': 'Moonlight, Planets, and Perseids', 'url': 'https://apod.nasa.gov/apod/image/2508/IMG_20250813_202125v1.jpg'}\n"
     ]
    }
   ],
   "source": [
    "import requests\n",
    "\n",
    "def get_apod(api_key):\n",
    "    url = f\"https://api.nasa.gov/planetary/apod\"\n",
    "    params = {\n",
    "        \"api_key\": api_key,\n",
    "    }\n",
    "    response = requests.get(url, params=params)\n",
    "    return response.json()\n",
    "\n",
    "# Example usage\n",
    "api_key = \"DEMO_KEY\"\n",
    "apod_data = get_apod(api_key)\n",
    "print(apod_data)\n"
   ]
  },
  {
   "cell_type": "code",
   "execution_count": null,
   "id": "c7333016",
   "metadata": {},
   "outputs": [
    {
     "data": {
      "text/html": [
       "<img src=\"https://apod.nasa.gov/apod/image/2508/IMG_20250813_202125_2048.jpg\"/>"
      ],
      "text/plain": [
       "<IPython.core.display.Image object>"
      ]
     },
     "metadata": {},
     "output_type": "display_data"
    }
   ],
   "source": [
    "# Show the image(s) from above\n",
    "\n",
    "from IPython.display import Image, display\n",
    "\n",
    "image_url = apod_data['hdurl'] #'https://apod.nasa.gov/apod/image/2504/PIA21983JupiterLundh.jpg' \n",
    "display(Image(url=image_url))\n"
   ]
  },
  {
   "cell_type": "code",
   "execution_count": 8,
   "id": "bf0ea356",
   "metadata": {},
   "outputs": [
    {
     "name": "stdout",
     "output_type": "stream",
     "text": [
      "Photo taken by: Curiosity on 2016-10-25\n",
      "Camera: Navigation Camera\n",
      "Image URL: http://mars.jpl.nasa.gov/msl-raw-images/proj/msl/redops/ods/surface/sol/01500/opgs/edr/ncam/NLB_530661097EDR_F0582394NCAM07753M_.JPG\n"
     ]
    }
   ],
   "source": [
    "# Another example from NASA images. Mars Rover image\n",
    "\n",
    "import requests\n",
    "from PIL import Image\n",
    "from io import BytesIO\n",
    "\n",
    "def fetch_mars_rover_photos(api_key, sol=1500, camera=\"NAVCAM\"):\n",
    "    url = f\"https://api.nasa.gov/mars-photos/api/v1/rovers/curiosity/photos\"\n",
    "    params = {\"api_key\": api_key, \"sol\": sol, \"camera\": camera}\n",
    "    response = requests.get(url, params=params)\n",
    "    data = response.json()\n",
    "    \n",
    "    if data[\"photos\"]:\n",
    "        photo = data[\"photos\"][0]\n",
    "        img_url = photo[\"img_src\"]\n",
    "        print(f\"Photo taken by: {photo['rover']['name']} on {photo['earth_date']}\")\n",
    "        print(f\"Camera: {photo['camera']['full_name']}\")\n",
    "        print(f\"Image URL: {img_url}\")\n",
    "        img_response = requests.get(img_url)\n",
    "        img = Image.open(BytesIO(img_response.content))\n",
    "        img.show()\n",
    "    else:\n",
    "        print(\"No photos available for this query.\")\n",
    "\n",
    "# Example usage\n",
    "fetch_mars_rover_photos(\"DEMO_KEY\")\n"
   ]
  },
  {
   "cell_type": "markdown",
   "id": "9c8a56f4",
   "metadata": {},
   "source": [
    "### Github\n",
    "\n",
    "Data is received from API URL or ...."
   ]
  },
  {
   "cell_type": "code",
   "execution_count": 10,
   "id": "a9d9e2a7",
   "metadata": {},
   "outputs": [
    {
     "name": "stdout",
     "output_type": "stream",
     "text": [
      "{'id': 1296269, 'node_id': 'MDEwOlJlcG9zaXRvcnkxMjk2MjY5', 'name': 'Hello-World', 'full_name': 'octocat/Hello-World', 'private': False, 'owner': {'login': 'octocat', 'id': 583231, 'node_id': 'MDQ6VXNlcjU4MzIzMQ==', 'avatar_url': 'https://avatars.githubusercontent.com/u/583231?v=4', 'gravatar_id': '', 'url': 'https://api.github.com/users/octocat', 'html_url': 'https://github.com/octocat', 'followers_url': 'https://api.github.com/users/octocat/followers', 'following_url': 'https://api.github.com/users/octocat/following{/other_user}', 'gists_url': 'https://api.github.com/users/octocat/gists{/gist_id}', 'starred_url': 'https://api.github.com/users/octocat/starred{/owner}{/repo}', 'subscriptions_url': 'https://api.github.com/users/octocat/subscriptions', 'organizations_url': 'https://api.github.com/users/octocat/orgs', 'repos_url': 'https://api.github.com/users/octocat/repos', 'events_url': 'https://api.github.com/users/octocat/events{/privacy}', 'received_events_url': 'https://api.github.com/users/octocat/received_events', 'type': 'User', 'user_view_type': 'public', 'site_admin': False}, 'html_url': 'https://github.com/octocat/Hello-World', 'description': 'My first repository on GitHub!', 'fork': False, 'url': 'https://api.github.com/repos/octocat/Hello-World', 'forks_url': 'https://api.github.com/repos/octocat/Hello-World/forks', 'keys_url': 'https://api.github.com/repos/octocat/Hello-World/keys{/key_id}', 'collaborators_url': 'https://api.github.com/repos/octocat/Hello-World/collaborators{/collaborator}', 'teams_url': 'https://api.github.com/repos/octocat/Hello-World/teams', 'hooks_url': 'https://api.github.com/repos/octocat/Hello-World/hooks', 'issue_events_url': 'https://api.github.com/repos/octocat/Hello-World/issues/events{/number}', 'events_url': 'https://api.github.com/repos/octocat/Hello-World/events', 'assignees_url': 'https://api.github.com/repos/octocat/Hello-World/assignees{/user}', 'branches_url': 'https://api.github.com/repos/octocat/Hello-World/branches{/branch}', 'tags_url': 'https://api.github.com/repos/octocat/Hello-World/tags', 'blobs_url': 'https://api.github.com/repos/octocat/Hello-World/git/blobs{/sha}', 'git_tags_url': 'https://api.github.com/repos/octocat/Hello-World/git/tags{/sha}', 'git_refs_url': 'https://api.github.com/repos/octocat/Hello-World/git/refs{/sha}', 'trees_url': 'https://api.github.com/repos/octocat/Hello-World/git/trees{/sha}', 'statuses_url': 'https://api.github.com/repos/octocat/Hello-World/statuses/{sha}', 'languages_url': 'https://api.github.com/repos/octocat/Hello-World/languages', 'stargazers_url': 'https://api.github.com/repos/octocat/Hello-World/stargazers', 'contributors_url': 'https://api.github.com/repos/octocat/Hello-World/contributors', 'subscribers_url': 'https://api.github.com/repos/octocat/Hello-World/subscribers', 'subscription_url': 'https://api.github.com/repos/octocat/Hello-World/subscription', 'commits_url': 'https://api.github.com/repos/octocat/Hello-World/commits{/sha}', 'git_commits_url': 'https://api.github.com/repos/octocat/Hello-World/git/commits{/sha}', 'comments_url': 'https://api.github.com/repos/octocat/Hello-World/comments{/number}', 'issue_comment_url': 'https://api.github.com/repos/octocat/Hello-World/issues/comments{/number}', 'contents_url': 'https://api.github.com/repos/octocat/Hello-World/contents/{+path}', 'compare_url': 'https://api.github.com/repos/octocat/Hello-World/compare/{base}...{head}', 'merges_url': 'https://api.github.com/repos/octocat/Hello-World/merges', 'archive_url': 'https://api.github.com/repos/octocat/Hello-World/{archive_format}{/ref}', 'downloads_url': 'https://api.github.com/repos/octocat/Hello-World/downloads', 'issues_url': 'https://api.github.com/repos/octocat/Hello-World/issues{/number}', 'pulls_url': 'https://api.github.com/repos/octocat/Hello-World/pulls{/number}', 'milestones_url': 'https://api.github.com/repos/octocat/Hello-World/milestones{/number}', 'notifications_url': 'https://api.github.com/repos/octocat/Hello-World/notifications{?since,all,participating}', 'labels_url': 'https://api.github.com/repos/octocat/Hello-World/labels{/name}', 'releases_url': 'https://api.github.com/repos/octocat/Hello-World/releases{/id}', 'deployments_url': 'https://api.github.com/repos/octocat/Hello-World/deployments', 'created_at': '2011-01-26T19:01:12Z', 'updated_at': '2025-08-15T11:21:02Z', 'pushed_at': '2024-08-20T23:54:42Z', 'git_url': 'git://github.com/octocat/Hello-World.git', 'ssh_url': 'git@github.com:octocat/Hello-World.git', 'clone_url': 'https://github.com/octocat/Hello-World.git', 'svn_url': 'https://github.com/octocat/Hello-World', 'homepage': '', 'size': 1, 'stargazers_count': 3073, 'watchers_count': 3073, 'language': None, 'has_issues': True, 'has_projects': True, 'has_downloads': True, 'has_wiki': True, 'has_pages': False, 'has_discussions': False, 'forks_count': 3477, 'mirror_url': None, 'archived': False, 'disabled': False, 'open_issues_count': 1830, 'license': None, 'allow_forking': True, 'is_template': False, 'web_commit_signoff_required': False, 'topics': [], 'visibility': 'public', 'forks': 3477, 'open_issues': 1830, 'watchers': 3073, 'default_branch': 'master', 'temp_clone_token': None, 'network_count': 3477, 'subscribers_count': 1732}\n"
     ]
    }
   ],
   "source": [
    "import requests\n",
    "\n",
    "def get_repo_info(owner, repo):\n",
    "    url = f\"https://api.github.com/repos/{owner}/{repo}\"\n",
    "    response = requests.get(url)\n",
    "    return response.json()\n",
    "\n",
    "# Example usage\n",
    "repo_info = get_repo_info(\"octocat\", \"Hello-World\")\n",
    "print(repo_info)\n"
   ]
  },
  {
   "cell_type": "markdown",
   "id": "302e51a8",
   "metadata": {},
   "source": [
    "### Youtube Video\n",
    "\n",
    "Data is received from API URL or ...."
   ]
  },
  {
   "cell_type": "code",
   "execution_count": null,
   "id": "b044ab0c",
   "metadata": {},
   "outputs": [],
   "source": [
    "# To be continued "
   ]
  }
 ],
 "metadata": {
  "kernelspec": {
   "display_name": "base",
   "language": "python",
   "name": "python3"
  },
  "language_info": {
   "codemirror_mode": {
    "name": "ipython",
    "version": 3
   },
   "file_extension": ".py",
   "mimetype": "text/x-python",
   "name": "python",
   "nbconvert_exporter": "python",
   "pygments_lexer": "ipython3",
   "version": "3.11.13"
  }
 },
 "nbformat": 4,
 "nbformat_minor": 5
}
